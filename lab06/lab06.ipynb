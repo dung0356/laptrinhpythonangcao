{
  "nbformat": 4,
  "nbformat_minor": 0,
  "metadata": {
    "colab": {
      "name": "Untitled15.ipynb",
      "provenance": [],
      "authorship_tag": "ABX9TyPCX7Mr9KmF3Qg4JW+v+fM0",
      "include_colab_link": true
    },
    "kernelspec": {
      "name": "python3",
      "display_name": "Python 3"
    },
    "language_info": {
      "name": "python"
    }
  },
  "cells": [
    {
      "cell_type": "markdown",
      "metadata": {
        "id": "view-in-github",
        "colab_type": "text"
      },
      "source": [
        "<a href=\"https://colab.research.google.com/github/dung0356/laptrinhpythonangcao/blob/main/lab06/lab06.ipynb\" target=\"_parent\"><img src=\"https://colab.research.google.com/assets/colab-badge.svg\" alt=\"Open In Colab\"/></a>"
      ]
    },
    {
      "cell_type": "markdown",
      "metadata": {
        "id": "4Zu6i9OEkaEc"
      },
      "source": [
        "bai1"
      ]
    },
    {
      "cell_type": "code",
      "metadata": {
        "id": "km9M-WGBkbcH"
      },
      "source": [
        "import tkinter\n",
        "window = tkinter.Tk()\n",
        "frame = tkinter.Frame(window)\n",
        "frame.pack()\n",
        "button = tkinter.Button(frame, text='Goodbye', command=lambda:\n",
        "window.destroy())\n",
        "button.pack()\n",
        "window.mainloop()"
      ],
      "execution_count": null,
      "outputs": []
    },
    {
      "cell_type": "markdown",
      "metadata": {
        "id": "48fD2-t8kmIK"
      },
      "source": [
        "bai2"
      ]
    },
    {
      "cell_type": "code",
      "metadata": {
        "id": "-nDkHH9CknKo"
      },
      "source": [
        "import tkinter\n",
        "\n",
        "def increment(text):\n",
        "    count = int(text.get())\n",
        "    text.set(str(count + 1))\n",
        "\n",
        "window = tkinter.Tk()\n",
        "frame = tkinter.Frame(window)\n",
        "frame.pack()\n",
        "\n",
        "text = tkinter.StringVar()\n",
        "text.set('0')\n",
        "\n",
        "button = tkinter.Button(frame, textvariable=text,\n",
        "command=lambda: increment(text))\n",
        "button.pack()\n",
        "window.mainloop()"
      ],
      "execution_count": null,
      "outputs": []
    },
    {
      "cell_type": "markdown",
      "metadata": {
        "id": "8e2_icHRkpnx"
      },
      "source": [
        "bai3"
      ]
    },
    {
      "cell_type": "code",
      "metadata": {
        "id": "XRNevC05kq5x"
      },
      "source": [
        "# What is a more readable way to write the following?\n",
        "# x = lambda: y\n",
        "def x():\n",
        "    return y"
      ],
      "execution_count": null,
      "outputs": []
    },
    {
      "cell_type": "markdown",
      "metadata": {
        "id": "NOxmuj4Lkstb"
      },
      "source": [
        "bai4"
      ]
    },
    {
      "cell_type": "code",
      "metadata": {
        "id": "1wU6ojQ7ktky"
      },
      "source": [
        "import tkinter\n",
        "\n",
        "def count(text, out_data):\n",
        "    data = text.get('0.0', tkinter.END)\n",
        "    counts = {}\n",
        "    for char in 'ATCG':\n",
        "        counts[char] = data.count(char)\n",
        "    print(counts)\n",
        "    out_data.set('Num As: {0} Num Ts: {1} Num Cs: {2} Num Gs: {3}'.format(\n",
        "        counts['A'], counts['T'], counts['C'], counts['G']))\n",
        "\n",
        "window = tkinter.Tk()\n",
        "text = tkinter.Text(window, height=10, width=40)\n",
        "text.pack()\n",
        "\n",
        "out_data = tkinter.StringVar()\n",
        "button = tkinter.Button(window, text='Count', command=lambda: count(text,\n",
        "out_data))\n",
        "button.pack()\n",
        "\n",
        "label = tkinter.Label(window, textvar=out_data)\n",
        "label.pack()\n",
        "\n",
        "window.mainloop()\n",
        "\n"
      ],
      "execution_count": null,
      "outputs": []
    },
    {
      "cell_type": "markdown",
      "metadata": {
        "id": "RId7htNgkv1Y"
      },
      "source": [
        "bai5"
      ]
    },
    {
      "cell_type": "code",
      "metadata": {
        "id": "_aTB7G-4kwpt"
      },
      "source": [
        "import tkinter\n",
        "def convert(f_temp, c_temp):\n",
        "    f = f_temp.get()\n",
        "    c_temp.set('{:.1f}'.format((f - 32) * 5 / 9))\n",
        "\n",
        "window = tkinter.Tk()\n",
        "frame = tkinter.Frame(window).pack()\n",
        "\n",
        "f_temp = tkinter.DoubleVar()\n",
        "c_temp = tkinter.StringVar()\n",
        "\n",
        "tkinter.Label(frame, text='Temperature in Fahrenheit:').pack()\n",
        "text = tkinter.Entry(frame, textvar=f_temp).pack()\n",
        "label = tkinter.Label(window, textvar=c_temp).pack()\n",
        "\n",
        "button = tkinter.Button(window, text='Convert', command=lambda: convert(f_temp,\n",
        "c_temp))\n",
        "button.pack()\n",
        "\n",
        "button = tkinter.Button(window, text='Quit', command=lambda: window.destroy())\n",
        "button.pack()\n",
        "\n",
        "window.mainloop()\n"
      ],
      "execution_count": null,
      "outputs": []
    },
    {
      "cell_type": "markdown",
      "metadata": {
        "id": "ilQ4SX0Pkz5A"
      },
      "source": [
        "bai6"
      ]
    },
    {
      "cell_type": "code",
      "metadata": {
        "id": "3lzdlAfnk1ak"
      },
      "source": [
        "import tkinter\n",
        "import tkinter.filedialog as dialog\n",
        "class TextEditor:\n",
        "    def __init__(self, parent):\n",
        "        self.parent = parent\n",
        "        self.frame = tkinter.Frame(parent)\n",
        "        self.frame.pack()\n",
        "\n",
        "        self.text = tkinter.Text(parent)\n",
        "        self.text.pack()\n",
        "\n",
        "\n",
        "        menubar = tkinter.Menu(parent)\n",
        "        filemenu = tkinter.Menu(menubar)\n",
        "        filemenu.add_command(label='Save', command=self.save_click)\n",
        "        filemenu.add_command(label='Quit', command=self.quit_click)\n",
        "        menubar.add_cascade(label='File', menu=filemenu)\n",
        "        window.config(menu=menubar)\n",
        "\n",
        "    def save_click(self):\n",
        "        data = self.text.get('0.0', tkinter.END)\n",
        "        filename = dialog.asksaveasfilename(\n",
        "            parent=self.parent,\n",
        "            filetypes=[('Text', '*.txt')],\n",
        "            title='Save as...')\n",
        "            writer = open(filename, 'w')\n",
        "            writer.write(data)\n",
        "            writer.close()\n",
        "\n",
        "    def quit_click(self):\n",
        "        self.parent.destroy()\n",
        "        if __name__ == '__main__':\n",
        "            window = tkinter.Tk()\n",
        "            app = TextEditor(window)\n",
        "            window.mainloop()\n",
        "\n"
      ],
      "execution_count": null,
      "outputs": []
    }
  ]
}