{
  "nbformat": 4,
  "nbformat_minor": 0,
  "metadata": {
    "colab": {
      "name": "Untitled17.ipynb",
      "provenance": [],
      "authorship_tag": "ABX9TyOAJyZvLHwGo35SBqnDdRv4",
      "include_colab_link": true
    },
    "kernelspec": {
      "name": "python3",
      "display_name": "Python 3"
    },
    "language_info": {
      "name": "python"
    }
  },
  "cells": [
    {
      "cell_type": "markdown",
      "metadata": {
        "id": "view-in-github",
        "colab_type": "text"
      },
      "source": [
        "<a href=\"https://colab.research.google.com/github/dung0356/laptrinhpythonangcao/blob/main/lab05/lab05.ipynb\" target=\"_parent\"><img src=\"https://colab.research.google.com/assets/colab-badge.svg\" alt=\"Open In Colab\"/></a>"
      ]
    },
    {
      "cell_type": "markdown",
      "metadata": {
        "id": "y9f7bz4BlyZi"
      },
      "source": [
        "cau 1"
      ]
    },
    {
      "cell_type": "code",
      "metadata": {
        "id": "Hk5FYSR3lzyq"
      },
      "source": [
        "class Country:\n",
        " def __init__(self, name, population, area):\n",
        "     (Country, str, int, int)\n",
        "canada = Country('Canada', 34482779, 9984670)\n",
        "print(canada.name)\n"
      ],
      "execution_count": null,
      "outputs": []
    }
  ]
}