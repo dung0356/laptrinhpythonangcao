{
  "nbformat": 4,
  "nbformat_minor": 0,
  "metadata": {
    "colab": {
      "name": "Untitled16.ipynb",
      "provenance": [],
      "authorship_tag": "ABX9TyMBknI0CvWcrbg93uMw31Ql",
      "include_colab_link": true
    },
    "kernelspec": {
      "name": "python3",
      "display_name": "Python 3"
    },
    "language_info": {
      "name": "python"
    }
  },
  "cells": [
    {
      "cell_type": "markdown",
      "metadata": {
        "id": "view-in-github",
        "colab_type": "text"
      },
      "source": [
        "<a href=\"https://colab.research.google.com/github/dung0356/laptrinhpythonangcao/blob/main/lab07/lab07.ipynb\" target=\"_parent\"><img src=\"https://colab.research.google.com/assets/colab-badge.svg\" alt=\"Open In Colab\"/></a>"
      ]
    },
    {
      "cell_type": "code",
      "metadata": {
        "id": "dBTiPIbclWho"
      },
      "source": [
        "bai15.5"
      ],
      "execution_count": null,
      "outputs": []
    },
    {
      "cell_type": "code",
      "metadata": {
        "id": "ra7UzkMila5M"
      },
      "source": [
        "from tkinter import*\n",
        "\n",
        "def callback():\n",
        "    label.configure(text='Button clicked')\n",
        "\n",
        "root=Tk()\n",
        "label=Label(text='Not clicked')\n",
        "button = Button(text='Click me',command=callback)\n",
        "\n",
        "label.grid(row=0, column=0)\n",
        "button.grid(row=1, column=0)\n",
        "\n",
        "mainloop()"
      ],
      "execution_count": null,
      "outputs": []
    },
    {
      "cell_type": "markdown",
      "metadata": {
        "id": "mr7gsc0ilh1T"
      },
      "source": [
        "bai 15.6"
      ]
    },
    {
      "cell_type": "code",
      "metadata": {
        "id": "vYOgBkDQljTA"
      },
      "source": [
        "from tkiner import*\n",
        "def callback():\n",
        "    global num_clicks\n",
        "    num_clicks = num_clicks + 1\n",
        "    label.configure(text='Clicked {} times.'.format(num_clicks))\n",
        "\n",
        "num_clicks = 0\n",
        "root =  Tk()\n",
        "\n",
        "label = Label(text='Not clicked')\n",
        "button = Button(text='Click me', command=callback)\n",
        "\n",
        "label.gird(row=0, column=0)\n",
        "button.grid(row=1, column=0)\n",
        "\n",
        "mainloop()"
      ],
      "execution_count": null,
      "outputs": []
    },
    {
      "cell_type": "markdown",
      "metadata": {
        "id": "v5NM9JPIlkNb"
      },
      "source": [
        "bai 1"
      ]
    },
    {
      "cell_type": "code",
      "metadata": {
        "id": "WMPfU8dElmFP"
      },
      "source": [
        "from tkinter import*\n",
        "\n",
        "def calculate():\n",
        "    temp=int(entry.get())\n",
        "    temp=9/5*temp+32\n",
        "    output_label.configure(text = 'Converted: {:.1f}'.format(temp))\n",
        "    entry.delete(0,END)\n",
        "\n",
        "root = Tk()\n",
        "message_label = Label(text='Enter a temperature',font=('Verdana',16))\n",
        "output_label = Label(font=('Verdana',16))\n",
        "entry = Entry(font=('Verdana',16), width=4)\n",
        "calc_button = Button(text='OK',font=('Verdana',16),command=calculate)\n",
        "\n",
        "message_label.grid(row=0, column=0)\n",
        "entry.grid(row=0, column=1)\n",
        "calc_button.grid(row=0, column=2)\n",
        "output_label.grid(row=1,column=0,columnspan=3)\n",
        "\n",
        "mainloop()"
      ],
      "execution_count": null,
      "outputs": []
    }
  ]
}