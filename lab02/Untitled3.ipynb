{
  "nbformat": 4,
  "nbformat_minor": 0,
  "metadata": {
    "colab": {
      "name": "Untitled3.ipynb",
      "provenance": [],
      "authorship_tag": "ABX9TyOHxIy/Cadx6K2dnwHYkptH",
      "include_colab_link": true
    },
    "kernelspec": {
      "name": "python3",
      "display_name": "Python 3"
    },
    "language_info": {
      "name": "python"
    }
  },
  "cells": [
    {
      "cell_type": "markdown",
      "metadata": {
        "id": "view-in-github",
        "colab_type": "text"
      },
      "source": [
        "<a href=\"https://colab.research.google.com/github/dung0356/laptrinhpythonangcao/blob/main/lab02/Untitled3.ipynb\" target=\"_parent\"><img src=\"https://colab.research.google.com/assets/colab-badge.svg\" alt=\"Open In Colab\"/></a>"
      ]
    },
    {
      "cell_type": "code",
      "metadata": {
        "id": "7JduEvfiS6TW"
      },
      "source": [
        ""
      ],
      "execution_count": null,
      "outputs": []
    },
    {
      "cell_type": "markdown",
      "metadata": {
        "id": "dT4jPHEYS9mI"
      },
      "source": [
        "bài tập chương 8"
      ]
    },
    {
      "cell_type": "markdown",
      "metadata": {
        "id": "sMUsNnA3UzQy"
      },
      "source": [
        "bài 1"
      ]
    },
    {
      "cell_type": "code",
      "metadata": {
        "colab": {
          "base_uri": "https://localhost:8080/",
          "height": 35
        },
        "id": "pkr96COjTBu8",
        "outputId": "50c5f79f-0835-4752-d0ae-7b38f255bb2a"
      },
      "source": [
        "kingdoms = ['Bacteria', 'Protozoa', 'Chromista','Plantae', 'Fungi','Animalia']\n",
        "kingdoms[0]"
      ],
      "execution_count": 1,
      "outputs": [
        {
          "output_type": "execute_result",
          "data": {
            "application/vnd.google.colaboratory.intrinsic+json": {
              "type": "string"
            },
            "text/plain": [
              "'Bacteria'"
            ]
          },
          "metadata": {},
          "execution_count": 1
        }
      ]
    },
    {
      "cell_type": "code",
      "metadata": {
        "colab": {
          "base_uri": "https://localhost:8080/",
          "height": 35
        },
        "id": "g5cqYkALTJDk",
        "outputId": "b719049e-6355-4b59-f509-655547635789"
      },
      "source": [
        "\n",
        "kingdoms[5]"
      ],
      "execution_count": 2,
      "outputs": [
        {
          "output_type": "execute_result",
          "data": {
            "application/vnd.google.colaboratory.intrinsic+json": {
              "type": "string"
            },
            "text/plain": [
              "'Animalia'"
            ]
          },
          "metadata": {},
          "execution_count": 2
        }
      ]
    },
    {
      "cell_type": "code",
      "metadata": {
        "colab": {
          "base_uri": "https://localhost:8080/"
        },
        "id": "k3a9DT9pTMdn",
        "outputId": "de78e94b-cdf7-4ef5-a0ee-b25938d01455"
      },
      "source": [
        "kingdoms[:3]\n"
      ],
      "execution_count": 3,
      "outputs": [
        {
          "output_type": "execute_result",
          "data": {
            "text/plain": [
              "['Bacteria', 'Protozoa', 'Chromista']"
            ]
          },
          "metadata": {},
          "execution_count": 3
        }
      ]
    },
    {
      "cell_type": "code",
      "metadata": {
        "colab": {
          "base_uri": "https://localhost:8080/"
        },
        "id": "Bg31SxtQTWLv",
        "outputId": "7ef2e372-c33e-439b-93ef-4bc2a6a2a1da"
      },
      "source": [
        "kingdoms[2:5]\n"
      ],
      "execution_count": 4,
      "outputs": [
        {
          "output_type": "execute_result",
          "data": {
            "text/plain": [
              "['Chromista', 'Plantae', 'Fungi']"
            ]
          },
          "metadata": {},
          "execution_count": 4
        }
      ]
    },
    {
      "cell_type": "code",
      "metadata": {
        "colab": {
          "base_uri": "https://localhost:8080/"
        },
        "id": "LYa2K9LmTZx-",
        "outputId": "38877517-e432-4f4a-f720-d0ee97cd43f8"
      },
      "source": [
        "kingdoms[4:]\n"
      ],
      "execution_count": 5,
      "outputs": [
        {
          "output_type": "execute_result",
          "data": {
            "text/plain": [
              "['Fungi', 'Animalia']"
            ]
          },
          "metadata": {},
          "execution_count": 5
        }
      ]
    },
    {
      "cell_type": "code",
      "metadata": {
        "colab": {
          "base_uri": "https://localhost:8080/"
        },
        "id": "GNkYjTdETaiQ",
        "outputId": "6ae8a4a7-e56b-4176-c099-c4d57a4b6c1d"
      },
      "source": [
        "kingdoms[1:0]\n"
      ],
      "execution_count": 6,
      "outputs": [
        {
          "output_type": "execute_result",
          "data": {
            "text/plain": [
              "[]"
            ]
          },
          "metadata": {},
          "execution_count": 6
        }
      ]
    },
    {
      "cell_type": "markdown",
      "metadata": {
        "id": "oRvSj53mU2pg"
      },
      "source": [
        "bài 2"
      ]
    },
    {
      "cell_type": "code",
      "metadata": {
        "colab": {
          "base_uri": "https://localhost:8080/",
          "height": 35
        },
        "id": "em8FpSBNTgCO",
        "outputId": "00155a0f-2d6f-434e-bfe6-9a2f3c27ffb6"
      },
      "source": [
        "kingdoms[-6]\n"
      ],
      "execution_count": 7,
      "outputs": [
        {
          "output_type": "execute_result",
          "data": {
            "application/vnd.google.colaboratory.intrinsic+json": {
              "type": "string"
            },
            "text/plain": [
              "'Bacteria'"
            ]
          },
          "metadata": {},
          "execution_count": 7
        }
      ]
    },
    {
      "cell_type": "code",
      "metadata": {
        "colab": {
          "base_uri": "https://localhost:8080/",
          "height": 35
        },
        "id": "be518htWTh3C",
        "outputId": "2f68fbe5-9723-4d46-b27c-1181c2ccfd88"
      },
      "source": [
        "kingdoms[-1]\n"
      ],
      "execution_count": 8,
      "outputs": [
        {
          "output_type": "execute_result",
          "data": {
            "application/vnd.google.colaboratory.intrinsic+json": {
              "type": "string"
            },
            "text/plain": [
              "'Animalia'"
            ]
          },
          "metadata": {},
          "execution_count": 8
        }
      ]
    },
    {
      "cell_type": "code",
      "metadata": {
        "colab": {
          "base_uri": "https://localhost:8080/"
        },
        "id": "m034-nh6Tjfr",
        "outputId": "dcf0c7db-16fc-444c-b71b-c29c35de2940"
      },
      "source": [
        "kingdoms[-6:-3]\n"
      ],
      "execution_count": 9,
      "outputs": [
        {
          "output_type": "execute_result",
          "data": {
            "text/plain": [
              "['Bacteria', 'Protozoa', 'Chromista']"
            ]
          },
          "metadata": {},
          "execution_count": 9
        }
      ]
    },
    {
      "cell_type": "code",
      "metadata": {
        "colab": {
          "base_uri": "https://localhost:8080/"
        },
        "id": "GgdpyWsdTmEt",
        "outputId": "742d51d6-d716-4e1e-9973-13df2c31ad3b"
      },
      "source": [
        "kingdoms[-4:-1]\n"
      ],
      "execution_count": 10,
      "outputs": [
        {
          "output_type": "execute_result",
          "data": {
            "text/plain": [
              "['Chromista', 'Plantae', 'Fungi']"
            ]
          },
          "metadata": {},
          "execution_count": 10
        }
      ]
    },
    {
      "cell_type": "code",
      "metadata": {
        "colab": {
          "base_uri": "https://localhost:8080/"
        },
        "id": "oWurv4cHTpuM",
        "outputId": "73427030-95d1-49d0-b531-63784c3fe765"
      },
      "source": [
        "kingdoms[-2:]\n"
      ],
      "execution_count": 11,
      "outputs": [
        {
          "output_type": "execute_result",
          "data": {
            "text/plain": [
              "['Fungi', 'Animalia']"
            ]
          },
          "metadata": {},
          "execution_count": 11
        }
      ]
    },
    {
      "cell_type": "code",
      "metadata": {
        "colab": {
          "base_uri": "https://localhost:8080/"
        },
        "id": "5YfpSPhTTqRw",
        "outputId": "16778ce0-945c-4a56-e335-3c76ba888544"
      },
      "source": [
        "kingdoms[-1:-2]\n"
      ],
      "execution_count": 12,
      "outputs": [
        {
          "output_type": "execute_result",
          "data": {
            "text/plain": [
              "[]"
            ]
          },
          "metadata": {},
          "execution_count": 12
        }
      ]
    },
    {
      "cell_type": "markdown",
      "metadata": {
        "id": "jHIIyT_tU5UI"
      },
      "source": [
        "bài 3"
      ]
    },
    {
      "cell_type": "code",
      "metadata": {
        "colab": {
          "base_uri": "https://localhost:8080/"
        },
        "id": "fzWEt2bOT3h0",
        "outputId": "a22b2d9b-d3f5-4e92-8c37-dfe15d444c78"
      },
      "source": [
        "appointments =['9:00','10:30','14:00','15:00','15:30']\n",
        "appointments.append('16:30')\n",
        "appointments"
      ],
      "execution_count": 14,
      "outputs": [
        {
          "output_type": "execute_result",
          "data": {
            "text/plain": [
              "['9:00', '10:30', '14:00', '15:00', '15:30', '16:30']"
            ]
          },
          "metadata": {},
          "execution_count": 14
        }
      ]
    },
    {
      "cell_type": "code",
      "metadata": {
        "colab": {
          "base_uri": "https://localhost:8080/"
        },
        "id": "2YmFOgYvVHSy",
        "outputId": "10aca432-3e7a-46ec-ec32-3f20052622e5"
      },
      "source": [
        "appointments += ['16:30']\n",
        "appointments"
      ],
      "execution_count": 17,
      "outputs": [
        {
          "output_type": "execute_result",
          "data": {
            "text/plain": [
              "['9:00', '10:30', '14:00', '15:00', '15:30', '16:30', '16:30']"
            ]
          },
          "metadata": {},
          "execution_count": 17
        }
      ]
    },
    {
      "cell_type": "markdown",
      "metadata": {
        "id": "8-1PHNekVW6O"
      },
      "source": [
        "câu 4\n"
      ]
    },
    {
      "cell_type": "code",
      "metadata": {
        "colab": {
          "base_uri": "https://localhost:8080/"
        },
        "id": "NsXWFS8jU6qo",
        "outputId": "21fd4df9-42a4-497e-db4d-597cb531b12b"
      },
      "source": [
        "ids= [4353, 2314, 2956, 3382, 9362, 3900]\n",
        "ids.remove(3382)\n",
        "ids"
      ],
      "execution_count": 15,
      "outputs": [
        {
          "output_type": "execute_result",
          "data": {
            "text/plain": [
              "[4353, 2314, 2956, 9362, 3900]"
            ]
          },
          "metadata": {},
          "execution_count": 15
        }
      ]
    },
    {
      "cell_type": "code",
      "metadata": {
        "colab": {
          "base_uri": "https://localhost:8080/"
        },
        "id": "8YjKTPeZVAry",
        "outputId": "08ec130e-5c57-4983-f859-3d54081e850c"
      },
      "source": [
        "ids.index(9362)\n",
        "ids"
      ],
      "execution_count": 16,
      "outputs": [
        {
          "output_type": "execute_result",
          "data": {
            "text/plain": [
              "[4353, 2314, 2956, 9362, 3900]"
            ]
          },
          "metadata": {},
          "execution_count": 16
        }
      ]
    },
    {
      "cell_type": "code",
      "metadata": {
        "colab": {
          "base_uri": "https://localhost:8080/"
        },
        "id": "DeJ3JfbYVbFT",
        "outputId": "72c47b40-9553-459f-f841-1959e3323dca"
      },
      "source": [
        "ids.insert(ids.index(9362)+1,4499)\n",
        "ids"
      ],
      "execution_count": 18,
      "outputs": [
        {
          "output_type": "execute_result",
          "data": {
            "text/plain": [
              "[4353, 2314, 2956, 9362, 4499, 3900]"
            ]
          },
          "metadata": {},
          "execution_count": 18
        }
      ]
    },
    {
      "cell_type": "code",
      "metadata": {
        "colab": {
          "base_uri": "https://localhost:8080/"
        },
        "id": "yVINV9qbVdge",
        "outputId": "98ec9e12-e011-4aa4-9866-57560469a6d4"
      },
      "source": [
        "ids = ids + [5566,1830] \n",
        "ids"
      ],
      "execution_count": 19,
      "outputs": [
        {
          "output_type": "execute_result",
          "data": {
            "text/plain": [
              "[4353, 2314, 2956, 9362, 4499, 3900, 5566, 1830]"
            ]
          },
          "metadata": {},
          "execution_count": 19
        }
      ]
    },
    {
      "cell_type": "code",
      "metadata": {
        "colab": {
          "base_uri": "https://localhost:8080/"
        },
        "id": "0Vfkc645WUZw",
        "outputId": "e98d50c1-5446-4822-bef6-3cb1dd4c0466"
      },
      "source": [
        "ids.reverse\n",
        "ids"
      ],
      "execution_count": 23,
      "outputs": [
        {
          "output_type": "execute_result",
          "data": {
            "text/plain": [
              "[4353, 2314, 2956, 9362, 4499, 3900, 5566, 1830]"
            ]
          },
          "metadata": {},
          "execution_count": 23
        }
      ]
    },
    {
      "cell_type": "code",
      "metadata": {
        "colab": {
          "base_uri": "https://localhost:8080/"
        },
        "id": "BAB-5WiaWVYC",
        "outputId": "f5e18158-1fb0-4ba5-a73d-2c15858bafc8"
      },
      "source": [
        "\n",
        "ids.sort\n",
        "ids"
      ],
      "execution_count": 24,
      "outputs": [
        {
          "output_type": "execute_result",
          "data": {
            "text/plain": [
              "[4353, 2314, 2956, 9362, 4499, 3900, 5566, 1830]"
            ]
          },
          "metadata": {},
          "execution_count": 24
        }
      ]
    },
    {
      "cell_type": "markdown",
      "metadata": {
        "id": "bFu69uIJVx8p"
      },
      "source": [
        ""
      ]
    },
    {
      "cell_type": "markdown",
      "metadata": {
        "id": "s4qqD8beV1pu"
      },
      "source": [
        "câu 5\n"
      ]
    },
    {
      "cell_type": "code",
      "metadata": {
        "id": "-ZTpF10rV27R"
      },
      "source": [
        "alkaline_earth_metals = [4,12,20,38,56,88]\n"
      ],
      "execution_count": 20,
      "outputs": []
    },
    {
      "cell_type": "code",
      "metadata": {
        "colab": {
          "base_uri": "https://localhost:8080/"
        },
        "id": "_jgs29d9V4nz",
        "outputId": "d65ff5e3-eded-4cb5-da03-d60b39ca5404"
      },
      "source": [
        "alkaline_earth_metals [5]\n"
      ],
      "execution_count": 21,
      "outputs": [
        {
          "output_type": "execute_result",
          "data": {
            "text/plain": [
              "88"
            ]
          },
          "metadata": {},
          "execution_count": 21
        }
      ]
    },
    {
      "cell_type": "code",
      "metadata": {
        "colab": {
          "base_uri": "https://localhost:8080/"
        },
        "id": "DqQ0gxhOWAaz",
        "outputId": "1b1ffd7a-e786-4c2f-d542-c0063cf5c522"
      },
      "source": [
        "alkaline_earth_metals [-1]\n"
      ],
      "execution_count": 22,
      "outputs": [
        {
          "output_type": "execute_result",
          "data": {
            "text/plain": [
              "88"
            ]
          },
          "metadata": {},
          "execution_count": 22
        }
      ]
    },
    {
      "cell_type": "code",
      "metadata": {
        "colab": {
          "base_uri": "https://localhost:8080/"
        },
        "id": "XLAyoGECWoaq",
        "outputId": "ccb60a2c-35e3-4f5d-d5b7-abe30c61ab42"
      },
      "source": [
        "len(alkaline_earth_metals)\n"
      ],
      "execution_count": 25,
      "outputs": [
        {
          "output_type": "execute_result",
          "data": {
            "text/plain": [
              "6"
            ]
          },
          "metadata": {},
          "execution_count": 25
        }
      ]
    },
    {
      "cell_type": "code",
      "metadata": {
        "colab": {
          "base_uri": "https://localhost:8080/"
        },
        "id": "PPBLsKm0Wo6V",
        "outputId": "54658ab0-772b-4c32-95e1-397233207b79"
      },
      "source": [
        "max(alkaline_earth_metals)\n"
      ],
      "execution_count": 26,
      "outputs": [
        {
          "output_type": "execute_result",
          "data": {
            "text/plain": [
              "88"
            ]
          },
          "metadata": {},
          "execution_count": 26
        }
      ]
    },
    {
      "cell_type": "markdown",
      "metadata": {
        "id": "hk5Xfr0oXAyw"
      },
      "source": [
        "bài 6\n"
      ]
    },
    {
      "cell_type": "code",
      "metadata": {
        "id": "R9g_l_e5XBoU"
      },
      "source": [
        "temps = [25.2, 16.8, 31.4, 23.9, 28, 22.5, 19.6]\n"
      ],
      "execution_count": 27,
      "outputs": []
    },
    {
      "cell_type": "code",
      "metadata": {
        "colab": {
          "base_uri": "https://localhost:8080/"
        },
        "id": "8jGtULPUXDUw",
        "outputId": "06656ab2-94c0-45b2-8c8f-90ef27e376ec"
      },
      "source": [
        "temps.sort()\n",
        "temps"
      ],
      "execution_count": 28,
      "outputs": [
        {
          "output_type": "execute_result",
          "data": {
            "text/plain": [
              "[16.8, 19.6, 22.5, 23.9, 25.2, 28, 31.4]"
            ]
          },
          "metadata": {},
          "execution_count": 28
        }
      ]
    },
    {
      "cell_type": "code",
      "metadata": {
        "colab": {
          "base_uri": "https://localhost:8080/"
        },
        "id": "9vCu2ByiXEsu",
        "outputId": "8c4e8d2f-f720-4928-a8ad-d7a0dfa4460c"
      },
      "source": [
        "cool_temps = temps[0:2]\n",
        "cool_temps"
      ],
      "execution_count": 29,
      "outputs": [
        {
          "output_type": "execute_result",
          "data": {
            "text/plain": [
              "[16.8, 19.6]"
            ]
          },
          "metadata": {},
          "execution_count": 29
        }
      ]
    },
    {
      "cell_type": "code",
      "metadata": {
        "colab": {
          "base_uri": "https://localhost:8080/"
        },
        "id": "soGGwwn7XGhS",
        "outputId": "b42df2d5-d0f0-47df-cc53-ba11b39b87dd"
      },
      "source": [
        "warm_temps = temps[2:]\n",
        "warm_temps"
      ],
      "execution_count": 30,
      "outputs": [
        {
          "output_type": "execute_result",
          "data": {
            "text/plain": [
              "[22.5, 23.9, 25.2, 28, 31.4]"
            ]
          },
          "metadata": {},
          "execution_count": 30
        }
      ]
    },
    {
      "cell_type": "code",
      "metadata": {
        "colab": {
          "base_uri": "https://localhost:8080/"
        },
        "id": "oCN9J3UUXIhF",
        "outputId": "6f514cf4-c773-4861-9a67-dc698af5a692"
      },
      "source": [
        "temps_in_celsius = cool_temps + warm_temps\n",
        "temps_in_celsius"
      ],
      "execution_count": 31,
      "outputs": [
        {
          "output_type": "execute_result",
          "data": {
            "text/plain": [
              "[16.8, 19.6, 22.5, 23.9, 25.2, 28, 31.4]"
            ]
          },
          "metadata": {},
          "execution_count": 31
        }
      ]
    },
    {
      "cell_type": "markdown",
      "metadata": {
        "id": "eGPRdf9wXN8E"
      },
      "source": [
        "bài 7"
      ]
    },
    {
      "cell_type": "code",
      "metadata": {
        "colab": {
          "base_uri": "https://localhost:8080/"
        },
        "id": "xqiPMz6lXP65",
        "outputId": "2cf6f6cb-c87c-4ced-ea01-a9e2f8df7bc1"
      },
      "source": [
        "def same_first_last(L: list) -> bool:\n",
        "    if(len(L) >= 2):\n",
        "      return L[0] == L[-1]\n",
        "same_first_last([3, 4, 2, 8, 3])"
      ],
      "execution_count": 32,
      "outputs": [
        {
          "output_type": "execute_result",
          "data": {
            "text/plain": [
              "True"
            ]
          },
          "metadata": {},
          "execution_count": 32
        }
      ]
    },
    {
      "cell_type": "code",
      "metadata": {
        "colab": {
          "base_uri": "https://localhost:8080/"
        },
        "id": "hE8oCaN9XR33",
        "outputId": "ecfef4d9-82f7-4a6c-857b-0db9b52df4a6"
      },
      "source": [
        "same_first_last(['apple', 'banana', 'pear'])\n"
      ],
      "execution_count": 33,
      "outputs": [
        {
          "output_type": "execute_result",
          "data": {
            "text/plain": [
              "False"
            ]
          },
          "metadata": {},
          "execution_count": 33
        }
      ]
    },
    {
      "cell_type": "code",
      "metadata": {
        "colab": {
          "base_uri": "https://localhost:8080/"
        },
        "id": "21D5HuPMXTdI",
        "outputId": "1a9c6a63-bcbc-4b18-f777-f1b457594318"
      },
      "source": [
        "same_first_last([4.0, 4.5])\n"
      ],
      "execution_count": 34,
      "outputs": [
        {
          "output_type": "execute_result",
          "data": {
            "text/plain": [
              "False"
            ]
          },
          "metadata": {},
          "execution_count": 34
        }
      ]
    },
    {
      "cell_type": "markdown",
      "metadata": {
        "id": "-pmC_7ktXciy"
      },
      "source": [
        "câu 8"
      ]
    },
    {
      "cell_type": "code",
      "metadata": {
        "colab": {
          "base_uri": "https://localhost:8080/"
        },
        "id": "saygcQVPXdWg",
        "outputId": "6ed97b22-d8dd-4c2d-dd30-c85f8abee1ed"
      },
      "source": [
        "def is_longer(L1: list, L2: list) -> bool:\n",
        "    return len(L1) > len(L2)\n",
        "is_longer([1, 2, 3], [4, 5])"
      ],
      "execution_count": 35,
      "outputs": [
        {
          "output_type": "execute_result",
          "data": {
            "text/plain": [
              "True"
            ]
          },
          "metadata": {},
          "execution_count": 35
        }
      ]
    },
    {
      "cell_type": "code",
      "metadata": {
        "colab": {
          "base_uri": "https://localhost:8080/"
        },
        "id": "XXSnqc1xXfTj",
        "outputId": "c77c4693-0291-49f0-f305-43ad26e54f45"
      },
      "source": [
        "is_longer(['abcdef'], ['ab', 'cd', 'ef'])\n"
      ],
      "execution_count": 36,
      "outputs": [
        {
          "output_type": "execute_result",
          "data": {
            "text/plain": [
              "False"
            ]
          },
          "metadata": {},
          "execution_count": 36
        }
      ]
    },
    {
      "cell_type": "code",
      "metadata": {
        "colab": {
          "base_uri": "https://localhost:8080/"
        },
        "id": "1dBCot_JXgje",
        "outputId": "f6bcb7fd-c3fc-4e17-8793-f5cc9831b5f1"
      },
      "source": [
        "is_longer(['a', 'b', 'c'], [1, 2, 3] )\n"
      ],
      "execution_count": 37,
      "outputs": [
        {
          "output_type": "execute_result",
          "data": {
            "text/plain": [
              "False"
            ]
          },
          "metadata": {},
          "execution_count": 37
        }
      ]
    },
    {
      "cell_type": "markdown",
      "metadata": {
        "id": "Vq--VG2IX9TK"
      },
      "source": [
        ""
      ]
    },
    {
      "cell_type": "markdown",
      "metadata": {
        "id": "NW5wsfLEX_Db"
      },
      "source": [
        "câu **10**"
      ]
    },
    {
      "cell_type": "code",
      "metadata": {
        "colab": {
          "base_uri": "https://localhost:8080/"
        },
        "id": "7MfpzAjTYBiG",
        "outputId": "c04d0276-1a89-4f0c-f178-005d903dabf2"
      },
      "source": [
        "units = [['km', 'miles', 'league'], ['kg', 'pound', 'stone']]\n",
        "units[0]"
      ],
      "execution_count": 38,
      "outputs": [
        {
          "output_type": "execute_result",
          "data": {
            "text/plain": [
              "['km', 'miles', 'league']"
            ]
          },
          "metadata": {},
          "execution_count": 38
        }
      ]
    },
    {
      "cell_type": "code",
      "metadata": {
        "colab": {
          "base_uri": "https://localhost:8080/"
        },
        "id": "G9_ljjj6YGHb",
        "outputId": "9c99a8c4-92c4-4ad8-9674-d5f33a3acdd6"
      },
      "source": [
        "units[-1]\n"
      ],
      "execution_count": 39,
      "outputs": [
        {
          "output_type": "execute_result",
          "data": {
            "text/plain": [
              "['kg', 'pound', 'stone']"
            ]
          },
          "metadata": {},
          "execution_count": 39
        }
      ]
    },
    {
      "cell_type": "code",
      "metadata": {
        "colab": {
          "base_uri": "https://localhost:8080/",
          "height": 35
        },
        "id": "SsTmV8PLYHZY",
        "outputId": "a9454517-3ee8-4eca-f09f-71d99abc427e"
      },
      "source": [
        "units[0][0]\n"
      ],
      "execution_count": 40,
      "outputs": [
        {
          "output_type": "execute_result",
          "data": {
            "application/vnd.google.colaboratory.intrinsic+json": {
              "type": "string"
            },
            "text/plain": [
              "'km'"
            ]
          },
          "metadata": {},
          "execution_count": 40
        }
      ]
    },
    {
      "cell_type": "code",
      "metadata": {
        "colab": {
          "base_uri": "https://localhost:8080/",
          "height": 35
        },
        "id": "TDprWPawYI0L",
        "outputId": "2757d259-a961-456c-b3c8-f3d105d81bda"
      },
      "source": [
        "units[1][0]\n"
      ],
      "execution_count": 41,
      "outputs": [
        {
          "output_type": "execute_result",
          "data": {
            "application/vnd.google.colaboratory.intrinsic+json": {
              "type": "string"
            },
            "text/plain": [
              "'kg'"
            ]
          },
          "metadata": {},
          "execution_count": 41
        }
      ]
    },
    {
      "cell_type": "code",
      "metadata": {
        "colab": {
          "base_uri": "https://localhost:8080/"
        },
        "id": "b4jrQjF2YKAG",
        "outputId": "d692b922-a096-4014-a5ba-3ee166e92ab4"
      },
      "source": [
        "units[0][1:]\n"
      ],
      "execution_count": 42,
      "outputs": [
        {
          "output_type": "execute_result",
          "data": {
            "text/plain": [
              "['miles', 'league']"
            ]
          },
          "metadata": {},
          "execution_count": 42
        }
      ]
    },
    {
      "cell_type": "code",
      "metadata": {
        "colab": {
          "base_uri": "https://localhost:8080/"
        },
        "id": "pP5htC_RYLBU",
        "outputId": "22d64f0c-0b86-4081-a9b0-4b65593f5f83"
      },
      "source": [
        "units[1][0:2]\n"
      ],
      "execution_count": 43,
      "outputs": [
        {
          "output_type": "execute_result",
          "data": {
            "text/plain": [
              "['kg', 'pound']"
            ]
          },
          "metadata": {},
          "execution_count": 43
        }
      ]
    },
    {
      "cell_type": "code",
      "metadata": {
        "colab": {
          "base_uri": "https://localhost:8080/"
        },
        "id": "qkNarYtzYMNC",
        "outputId": "8311de2b-17ae-40b8-8951-6a66be233b51"
      },
      "source": [
        "units[-2]\n"
      ],
      "execution_count": 44,
      "outputs": [
        {
          "output_type": "execute_result",
          "data": {
            "text/plain": [
              "['km', 'miles', 'league']"
            ]
          },
          "metadata": {},
          "execution_count": 44
        }
      ]
    },
    {
      "cell_type": "code",
      "metadata": {
        "colab": {
          "base_uri": "https://localhost:8080/"
        },
        "id": "bazp-sagYN8d",
        "outputId": "68a0a00e-2688-4298-b9c6-44d8aae74aef"
      },
      "source": [
        "units[-1]\n"
      ],
      "execution_count": 45,
      "outputs": [
        {
          "output_type": "execute_result",
          "data": {
            "text/plain": [
              "['kg', 'pound', 'stone']"
            ]
          },
          "metadata": {},
          "execution_count": 45
        }
      ]
    },
    {
      "cell_type": "code",
      "metadata": {
        "colab": {
          "base_uri": "https://localhost:8080/",
          "height": 35
        },
        "id": "HOkSHy5wYO-q",
        "outputId": "1686f2a4-5dec-4e2f-8d78-4e2f04c2d6e0"
      },
      "source": [
        "units[-2][-3]\n"
      ],
      "execution_count": 46,
      "outputs": [
        {
          "output_type": "execute_result",
          "data": {
            "application/vnd.google.colaboratory.intrinsic+json": {
              "type": "string"
            },
            "text/plain": [
              "'km'"
            ]
          },
          "metadata": {},
          "execution_count": 46
        }
      ]
    },
    {
      "cell_type": "code",
      "metadata": {
        "colab": {
          "base_uri": "https://localhost:8080/",
          "height": 35
        },
        "id": "eulD5361YRes",
        "outputId": "49a106ad-07a2-4c78-f64a-fa14d3dbdc9c"
      },
      "source": [
        "units[-1][-3]\n"
      ],
      "execution_count": 47,
      "outputs": [
        {
          "output_type": "execute_result",
          "data": {
            "application/vnd.google.colaboratory.intrinsic+json": {
              "type": "string"
            },
            "text/plain": [
              "'kg'"
            ]
          },
          "metadata": {},
          "execution_count": 47
        }
      ]
    },
    {
      "cell_type": "code",
      "metadata": {
        "colab": {
          "base_uri": "https://localhost:8080/"
        },
        "id": "zz5d1S5vYR8i",
        "outputId": "0b60bff3-fe00-4b22-c509-3dd65fb06a25"
      },
      "source": [
        "units[-2][-2:]\n"
      ],
      "execution_count": 48,
      "outputs": [
        {
          "output_type": "execute_result",
          "data": {
            "text/plain": [
              "['miles', 'league']"
            ]
          },
          "metadata": {},
          "execution_count": 48
        }
      ]
    },
    {
      "cell_type": "code",
      "metadata": {
        "colab": {
          "base_uri": "https://localhost:8080/"
        },
        "id": "4ueJ8W9yYTRv",
        "outputId": "7892683c-f114-4ce0-97b2-9342de56c81a"
      },
      "source": [
        "units[-1][:-1]\n"
      ],
      "execution_count": 49,
      "outputs": [
        {
          "output_type": "execute_result",
          "data": {
            "text/plain": [
              "['kg', 'pound']"
            ]
          },
          "metadata": {},
          "execution_count": 49
        }
      ]
    }
  ]
}